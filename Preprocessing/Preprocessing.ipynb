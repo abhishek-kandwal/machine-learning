{
 "cells": [
  {
   "cell_type": "code",
   "execution_count": 54,
   "metadata": {},
   "outputs": [],
   "source": [
    "import pandas\n",
    "import scipy\n",
    "import numpy\n",
    "from sklearn.preprocessing import MinMaxScaler\n",
    "from sklearn.preprocessing import Binarizer\n",
    "from sklearn.preprocessing import StandardScaler"
   ]
  },
  {
   "cell_type": "code",
   "execution_count": 40,
   "metadata": {},
   "outputs": [
    {
     "name": "stdout",
     "output_type": "stream",
     "text": [
      "         Pregnancies  BloodPressure  SkinThickness  Insulin   BMI  \\\n",
      "Glucose                                                             \n",
      "148                6             72             35        0  33.6   \n",
      "85                 1             66             29        0  26.6   \n",
      "183                8             64              0        0  23.3   \n",
      "89                 1             66             23       94  28.1   \n",
      "137                0             40             35      168  43.1   \n",
      "116                5             74              0        0  25.6   \n",
      "78                 3             50             32       88  31.0   \n",
      "115               10              0              0        0  35.3   \n",
      "197                2             70             45      543  30.5   \n",
      "125                8             96              0        0   0.0   \n",
      "\n",
      "         DiabetesPedigreeFunction  Age  Outcome  \n",
      "Glucose                                          \n",
      "148                         0.627   50        1  \n",
      "85                          0.351   31        0  \n",
      "183                         0.672   32        1  \n",
      "89                          0.167   21        0  \n",
      "137                         2.288   33        1  \n",
      "116                         0.201   30        0  \n",
      "78                          0.248   26        1  \n",
      "115                         0.134   29        0  \n",
      "197                         0.158   53        1  \n",
      "125                         0.232   54        1  \n",
      "<class 'pandas.core.frame.DataFrame'>\n",
      "Int64Index: 768 entries, 148 to 93\n",
      "Data columns (total 8 columns):\n",
      "Pregnancies                 768 non-null int64\n",
      "BloodPressure               768 non-null int64\n",
      "SkinThickness               768 non-null int64\n",
      "Insulin                     768 non-null int64\n",
      "BMI                         768 non-null float64\n",
      "DiabetesPedigreeFunction    768 non-null float64\n",
      "Age                         768 non-null int64\n",
      "Outcome                     768 non-null int64\n",
      "dtypes: float64(2), int64(6)\n",
      "memory usage: 54.0 KB\n"
     ]
    }
   ],
   "source": [
    "url = 'diabetes.csv'\n",
    "dataframe = pandas.read_csv(url,index_col=1)\n",
    "array = dataframe.values\n",
    "print(dataframe.head(10))\n",
    "dataframe.info()"
   ]
  },
  {
   "cell_type": "code",
   "execution_count": 58,
   "metadata": {},
   "outputs": [
    {
     "name": "stdout",
     "output_type": "stream",
     "text": [
      "Rescaling\n",
      "[[0.353 0.59  0.354 0.    0.501 0.234 0.483]\n",
      " [0.059 0.541 0.293 0.    0.396 0.117 0.167]\n",
      " [0.471 0.525 0.    0.    0.347 0.254 0.183]\n",
      " [0.059 0.541 0.232 0.111 0.419 0.038 0.   ]\n",
      " [0.    0.328 0.354 0.199 0.642 0.944 0.2  ]]\n"
     ]
    }
   ],
   "source": [
    "print('Rescaling')\n",
    "#seperate array to input and output components\n",
    "X = array[:,0:7]\n",
    "Y = array[:,7]\n",
    "scaler = MinMaxScaler(feature_range=(0,1))\n",
    "rescaledX = scaler.fit_transform(X)\n",
    "\n",
    "#summarize transformed data \n",
    "numpy.set_printoptions(precision=3)\n",
    "print(rescaledX[0:5,:])"
   ]
  },
  {
   "cell_type": "code",
   "execution_count": 53,
   "metadata": {},
   "outputs": [
    {
     "name": "stdout",
     "output_type": "stream",
     "text": [
      "Binarize Data\n",
      "[[1. 1. 1. 0. 1. 1. 1.]\n",
      " [1. 1. 1. 0. 1. 1. 1.]\n",
      " [1. 1. 0. 0. 1. 1. 1.]\n",
      " [1. 1. 1. 1. 1. 1. 1.]\n",
      " [0. 1. 1. 1. 1. 1. 1.]]\n"
     ]
    }
   ],
   "source": [
    "print('Binarize Data')\n",
    "# separate array into input and output components\n",
    "X = array[:,0:7]\n",
    "Y = array[:,7]\n",
    "binarizer = Binarizer(threshold=0.0).fit(X)\n",
    "binaryX = binarizer.transform(X)\n",
    " \n",
    "# summarize transformed data\n",
    "numpy.set_printoptions(precision=3)\n",
    "print(binaryX[0:5,:])"
   ]
  },
  {
   "cell_type": "code",
   "execution_count": 56,
   "metadata": {},
   "outputs": [
    {
     "name": "stdout",
     "output_type": "stream",
     "text": [
      "Standardize Data\n",
      "[[ 0.64   0.15   0.907 -0.693  0.204  0.468  1.426]\n",
      " [-0.845 -0.161  0.531 -0.693 -0.684 -0.365 -0.191]\n",
      " [ 1.234 -0.264 -1.288 -0.693 -1.103  0.604 -0.106]\n",
      " [-0.845 -0.161  0.155  0.123 -0.494 -0.921 -1.042]\n",
      " [-1.142 -1.505  0.907  0.766  1.41   5.485 -0.02 ]]\n"
     ]
    }
   ],
   "source": [
    "print('Standardize Data')\n",
    "# separate array into input and output components\n",
    "X = array[:,0:7]\n",
    "Y = array[:,7]\n",
    "scaler = StandardScaler().fit(X)\n",
    "rescaledX = scaler.transform(X)\n",
    " \n",
    "# summarize transformed data\n",
    "numpy.set_printoptions(precision=3)\n",
    "print(rescaledX[0:5,:])"
   ]
  },
  {
   "cell_type": "code",
   "execution_count": null,
   "metadata": {},
   "outputs": [],
   "source": []
  }
 ],
 "metadata": {
  "kernelspec": {
   "display_name": "Python 3",
   "language": "python",
   "name": "python3"
  },
  "language_info": {
   "codemirror_mode": {
    "name": "ipython",
    "version": 3
   },
   "file_extension": ".py",
   "mimetype": "text/x-python",
   "name": "python",
   "nbconvert_exporter": "python",
   "pygments_lexer": "ipython3",
   "version": "3.6.5"
  }
 },
 "nbformat": 4,
 "nbformat_minor": 2
}
